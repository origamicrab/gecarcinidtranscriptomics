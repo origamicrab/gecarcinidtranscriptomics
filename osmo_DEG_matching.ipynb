{
 "cells": [
  {
   "cell_type": "code",
   "execution_count": 1,
   "metadata": {},
   "outputs": [],
   "source": [
    "import pandas as pd\n",
    "import numpy as np\n",
    "import matplotlib.pyplot as plt\n",
    "import seaborn as sns"
   ]
  },
  {
   "cell_type": "code",
   "execution_count": 6,
   "metadata": {},
   "outputs": [],
   "source": [
    "kept_tx = pd.read_csv(\"DCGL_kept.csv\", header=None)"
   ]
  },
  {
   "cell_type": "code",
   "execution_count": 7,
   "metadata": {},
   "outputs": [],
   "source": [
    "genes_of_interest = pd.read_csv(\"dc_osmo_genes_cleaned.csv\")"
   ]
  },
  {
   "cell_type": "code",
   "execution_count": 12,
   "metadata": {},
   "outputs": [],
   "source": [
    "kept_tx = kept_tx.rename(columns ={0:\"transcript\"})"
   ]
  },
  {
   "cell_type": "code",
   "execution_count": 16,
   "metadata": {},
   "outputs": [
    {
     "data": {
      "text/plain": [
       "18311"
      ]
     },
     "execution_count": 16,
     "metadata": {},
     "output_type": "execute_result"
    }
   ],
   "source": [
    "len(kept_tx)"
   ]
  },
  {
   "cell_type": "code",
   "execution_count": 15,
   "metadata": {},
   "outputs": [
    {
     "data": {
      "text/plain": [
       "1079"
      ]
     },
     "execution_count": 15,
     "metadata": {},
     "output_type": "execute_result"
    }
   ],
   "source": [
    "len(genes_of_interest)"
   ]
  },
  {
   "cell_type": "code",
   "execution_count": 17,
   "metadata": {},
   "outputs": [],
   "source": [
    "dc_osmo_genes = pd.merge(genes_of_interest, kept_tx, on=\"transcript\")"
   ]
  },
  {
   "cell_type": "code",
   "execution_count": 29,
   "metadata": {},
   "outputs": [],
   "source": [
    "dc_osmo_genes_unique = dc_osmo_genes[\"transcript\"].unique"
   ]
  },
  {
   "cell_type": "code",
   "execution_count": 34,
   "metadata": {},
   "outputs": [],
   "source": [
    "dc_osmo_genes.to_csv(\"dcgl_osmo_genes_kept.csv\")"
   ]
  },
  {
   "cell_type": "code",
   "execution_count": null,
   "metadata": {},
   "outputs": [],
   "source": [
    "#are any of our transcripts of interest DEGs?"
   ]
  },
  {
   "cell_type": "code",
   "execution_count": 2,
   "metadata": {},
   "outputs": [],
   "source": [
    "int_genes_dc = pd.read_csv(\"dc_osmo_genes_cleaned.csv\")"
   ]
  },
  {
   "cell_type": "code",
   "execution_count": 3,
   "metadata": {},
   "outputs": [],
   "source": [
    "all_degs = pd.read_csv(\"all_spp_degs.csv\")"
   ]
  },
  {
   "cell_type": "code",
   "execution_count": 4,
   "metadata": {},
   "outputs": [
    {
     "data": {
      "text/html": [
       "<div>\n",
       "<style scoped>\n",
       "    .dataframe tbody tr th:only-of-type {\n",
       "        vertical-align: middle;\n",
       "    }\n",
       "\n",
       "    .dataframe tbody tr th {\n",
       "        vertical-align: top;\n",
       "    }\n",
       "\n",
       "    .dataframe thead th {\n",
       "        text-align: right;\n",
       "    }\n",
       "</style>\n",
       "<table border=\"1\" class=\"dataframe\">\n",
       "  <thead>\n",
       "    <tr style=\"text-align: right;\">\n",
       "      <th></th>\n",
       "      <th>nat_transcript</th>\n",
       "      <th>cel_transcript</th>\n",
       "      <th>mag_transcript</th>\n",
       "    </tr>\n",
       "  </thead>\n",
       "  <tbody>\n",
       "    <tr>\n",
       "      <th>0</th>\n",
       "      <td>TRINITY_DN19178_c0_g1_i1</td>\n",
       "      <td>TRINITY_DN10116_c0_g1_i1</td>\n",
       "      <td>TRINITY_DN23680_c4_g1_i5</td>\n",
       "    </tr>\n",
       "    <tr>\n",
       "      <th>1</th>\n",
       "      <td>TRINITY_DN19228_c0_g1_i1</td>\n",
       "      <td>TRINITY_DN16606_c0_g1_i1</td>\n",
       "      <td>TRINITY_DN23680_c4_g1_i7</td>\n",
       "    </tr>\n",
       "    <tr>\n",
       "      <th>2</th>\n",
       "      <td>TRINITY_DN19705_c0_g1_i2</td>\n",
       "      <td>TRINITY_DN29210_c0_g1_i1</td>\n",
       "      <td>TRINITY_DN22499_c3_g1_i4</td>\n",
       "    </tr>\n",
       "    <tr>\n",
       "      <th>3</th>\n",
       "      <td>TRINITY_DN20616_c0_g2_i1</td>\n",
       "      <td>TRINITY_DN31429_c0_g1_i1</td>\n",
       "      <td>TRINITY_DN25562_c3_g1_i7</td>\n",
       "    </tr>\n",
       "    <tr>\n",
       "      <th>4</th>\n",
       "      <td>TRINITY_DN20647_c0_g1_i2</td>\n",
       "      <td>TRINITY_DN32604_c0_g1_i1</td>\n",
       "      <td>TRINITY_DN24950_c4_g1_i4</td>\n",
       "    </tr>\n",
       "  </tbody>\n",
       "</table>\n",
       "</div>"
      ],
      "text/plain": [
       "             nat_transcript            cel_transcript  \\\n",
       "0  TRINITY_DN19178_c0_g1_i1  TRINITY_DN10116_c0_g1_i1   \n",
       "1  TRINITY_DN19228_c0_g1_i1  TRINITY_DN16606_c0_g1_i1   \n",
       "2  TRINITY_DN19705_c0_g1_i2  TRINITY_DN29210_c0_g1_i1   \n",
       "3  TRINITY_DN20616_c0_g2_i1  TRINITY_DN31429_c0_g1_i1   \n",
       "4  TRINITY_DN20647_c0_g1_i2  TRINITY_DN32604_c0_g1_i1   \n",
       "\n",
       "             mag_transcript  \n",
       "0  TRINITY_DN23680_c4_g1_i5  \n",
       "1  TRINITY_DN23680_c4_g1_i7  \n",
       "2  TRINITY_DN22499_c3_g1_i4  \n",
       "3  TRINITY_DN25562_c3_g1_i7  \n",
       "4  TRINITY_DN24950_c4_g1_i4  "
      ]
     },
     "execution_count": 4,
     "metadata": {},
     "output_type": "execute_result"
    }
   ],
   "source": [
    "all_degs.head()"
   ]
  },
  {
   "cell_type": "code",
   "execution_count": 5,
   "metadata": {},
   "outputs": [
    {
     "data": {
      "text/html": [
       "<div>\n",
       "<style scoped>\n",
       "    .dataframe tbody tr th:only-of-type {\n",
       "        vertical-align: middle;\n",
       "    }\n",
       "\n",
       "    .dataframe tbody tr th {\n",
       "        vertical-align: top;\n",
       "    }\n",
       "\n",
       "    .dataframe thead th {\n",
       "        text-align: right;\n",
       "    }\n",
       "</style>\n",
       "<table border=\"1\" class=\"dataframe\">\n",
       "  <thead>\n",
       "    <tr style=\"text-align: right;\">\n",
       "      <th></th>\n",
       "      <th>transcript</th>\n",
       "      <th>query</th>\n",
       "      <th>query_species</th>\n",
       "    </tr>\n",
       "  </thead>\n",
       "  <tbody>\n",
       "    <tr>\n",
       "      <th>0</th>\n",
       "      <td>TRINITY_DN47208_c5_g2_i28</td>\n",
       "      <td>KAG0721891.1 Plasma membrane calcium-transport...</td>\n",
       "      <td>Chionoecetes opilio</td>\n",
       "    </tr>\n",
       "    <tr>\n",
       "      <th>1</th>\n",
       "      <td>TRINITY_DN47208_c5_g2_i16</td>\n",
       "      <td>KAG0721891.1 Plasma membrane calcium-transport...</td>\n",
       "      <td>Chionoecetes opilio</td>\n",
       "    </tr>\n",
       "    <tr>\n",
       "      <th>2</th>\n",
       "      <td>TRINITY_DN47208_c5_g2_i20</td>\n",
       "      <td>KAG0721891.1 Plasma membrane calcium-transport...</td>\n",
       "      <td>Chionoecetes opilio</td>\n",
       "    </tr>\n",
       "    <tr>\n",
       "      <th>3</th>\n",
       "      <td>TRINITY_DN47208_c5_g2_i18</td>\n",
       "      <td>KAG0721891.1 Plasma membrane calcium-transport...</td>\n",
       "      <td>Chionoecetes opilio</td>\n",
       "    </tr>\n",
       "    <tr>\n",
       "      <th>4</th>\n",
       "      <td>TRINITY_DN47208_c5_g2_i26</td>\n",
       "      <td>KAG0721891.1 Plasma membrane calcium-transport...</td>\n",
       "      <td>Chionoecetes opilio</td>\n",
       "    </tr>\n",
       "  </tbody>\n",
       "</table>\n",
       "</div>"
      ],
      "text/plain": [
       "                  transcript  \\\n",
       "0  TRINITY_DN47208_c5_g2_i28   \n",
       "1  TRINITY_DN47208_c5_g2_i16   \n",
       "2  TRINITY_DN47208_c5_g2_i20   \n",
       "3  TRINITY_DN47208_c5_g2_i18   \n",
       "4  TRINITY_DN47208_c5_g2_i26   \n",
       "\n",
       "                                               query        query_species  \n",
       "0  KAG0721891.1 Plasma membrane calcium-transport...  Chionoecetes opilio  \n",
       "1  KAG0721891.1 Plasma membrane calcium-transport...  Chionoecetes opilio  \n",
       "2  KAG0721891.1 Plasma membrane calcium-transport...  Chionoecetes opilio  \n",
       "3  KAG0721891.1 Plasma membrane calcium-transport...  Chionoecetes opilio  \n",
       "4  KAG0721891.1 Plasma membrane calcium-transport...  Chionoecetes opilio  "
      ]
     },
     "execution_count": 5,
     "metadata": {},
     "output_type": "execute_result"
    }
   ],
   "source": [
    "int_genes_dc.head()"
   ]
  },
  {
   "cell_type": "code",
   "execution_count": 6,
   "metadata": {},
   "outputs": [
    {
     "data": {
      "text/plain": [
       "{'TRINITY_DN43830_c2_g2_i20',\n",
       " 'TRINITY_DN43830_c2_g2_i6',\n",
       " 'TRINITY_DN43875_c4_g6_i5',\n",
       " 'TRINITY_DN47587_c1_g4_i1',\n",
       " 'TRINITY_DN47799_c1_g1_i5',\n",
       " 'TRINITY_DN51081_c0_g1_i1',\n",
       " 'TRINITY_DN68753_c0_g1_i1',\n",
       " 'TRINITY_DN76498_c0_g1_i1'}"
      ]
     },
     "execution_count": 6,
     "metadata": {},
     "output_type": "execute_result"
    }
   ],
   "source": [
    "set(int_genes_dc[\"transcript\"]) & set(all_degs[\"cel_transcript\"])"
   ]
  },
  {
   "cell_type": "code",
   "execution_count": 8,
   "metadata": {},
   "outputs": [],
   "source": [
    "int_genes_dm = pd.read_csv(\"dm_osmo_genes_cleaned.csv\")"
   ]
  },
  {
   "cell_type": "code",
   "execution_count": 9,
   "metadata": {},
   "outputs": [
    {
     "data": {
      "text/plain": [
       "{'TRINITY_DN23770_c1_g1_i5',\n",
       " 'TRINITY_DN24161_c0_g1_i2',\n",
       " 'TRINITY_DN25667_c2_g2_i5'}"
      ]
     },
     "execution_count": 9,
     "metadata": {},
     "output_type": "execute_result"
    }
   ],
   "source": [
    "set(int_genes_dm[\"transcript\"]) & set(all_degs[\"mag_transcript\"])"
   ]
  },
  {
   "cell_type": "code",
   "execution_count": 10,
   "metadata": {},
   "outputs": [],
   "source": [
    "int_genes_gn = pd.read_csv(\"gn_osmo_genes_cleaned.csv\")"
   ]
  },
  {
   "cell_type": "code",
   "execution_count": 11,
   "metadata": {},
   "outputs": [
    {
     "data": {
      "text/plain": [
       "{'TRINITY_DN20685_c0_g2_i1',\n",
       " 'TRINITY_DN21713_c0_g1_i3',\n",
       " 'TRINITY_DN22631_c4_g1_i2',\n",
       " 'TRINITY_DN23469_c3_g1_i2',\n",
       " 'TRINITY_DN23481_c7_g1_i5',\n",
       " 'TRINITY_DN23608_c2_g1_i2',\n",
       " 'TRINITY_DN23619_c5_g4_i1'}"
      ]
     },
     "execution_count": 11,
     "metadata": {},
     "output_type": "execute_result"
    }
   ],
   "source": [
    "set(int_genes_gn[\"transcript\"]) & set(all_degs[\"nat_transcript\"])"
   ]
  },
  {
   "cell_type": "code",
   "execution_count": null,
   "metadata": {},
   "outputs": [],
   "source": []
  }
 ],
 "metadata": {
  "kernelspec": {
   "display_name": "Python 3",
   "language": "python",
   "name": "python3"
  },
  "language_info": {
   "codemirror_mode": {
    "name": "ipython",
    "version": 3
   },
   "file_extension": ".py",
   "mimetype": "text/x-python",
   "name": "python",
   "nbconvert_exporter": "python",
   "pygments_lexer": "ipython3",
   "version": "3.6.7"
  }
 },
 "nbformat": 4,
 "nbformat_minor": 2
}
